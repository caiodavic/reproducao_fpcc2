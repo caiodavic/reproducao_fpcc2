{
 "cells": [
  {
   "cell_type": "code",
   "execution_count": 20,
   "metadata": {},
   "outputs": [],
   "source": [
    "import numpy as np\n",
    "import random\n",
    "import scipy.sparse as sp"
   ]
  },
  {
   "cell_type": "code",
   "execution_count": 21,
   "metadata": {},
   "outputs": [],
   "source": [
    "def make_test_ratings(path):\n",
    "    test_ratings = {}\n",
    "    with open(path, 'r') as f:\n",
    "        for line in f:\n",
    "            arr = line.split('::')\n",
    "            user, item, timestamp = int(arr[0])-1, int(arr[1])-1, int(arr[3])\n",
    "            if user in test_ratings.keys():\n",
    "                if test_ratings[user][0] < timestamp:\n",
    "                    test_ratings[user] = (item, timestamp)\n",
    "            else:\n",
    "                test_ratings[user] = (item, timestamp)\n",
    "    rating_list = []\n",
    "    for user in test_ratings.keys():\n",
    "        rating_list.append([user, test_ratings[user][0]])\n",
    "\n",
    "    return rating_list, test_ratings"
   ]
  },
  {
   "cell_type": "code",
   "execution_count": 1,
   "metadata": {},
   "outputs": [],
   "source": [
    "def make_train_ratings(path, test_ratings_dict):\n",
    "    ratings = []\n",
    "    with open(path, 'r') as f:\n",
    "        num_users, num_items = 0, 0\n",
    "        for line in f:\n",
    "            arr = line.split('::')\n",
    "            u, i = arr[0], arr[1]\n",
    "            num_users = max(num_users, int(u))\n",
    "            num_items = max(num_items, int(i))\n",
    "\n",
    "    matrix = sp.dok_matrix((num_users, num_items), dtype=np.float32)\n",
    "    with open(path, 'r') as f:\n",
    "        for line in f:\n",
    "            arr = line.split('::')\n",
    "            user, item, rating, timestamp = int(\n",
    "                arr[0])-1, int(arr[1])-1, int(arr[2]), int(arr[3])\n",
    "            if test_ratings_dict[user][0] != item:\n",
    "                if rating > 0:\n",
    "                    matrix[user, item] = 1.0\n",
    "                ratings.append([user, item, rating, timestamp])\n",
    "\n",
    "    return ratings, matrix"
   ]
  },
  {
   "cell_type": "code",
   "execution_count": 44,
   "metadata": {},
   "outputs": [],
   "source": [
    "def make_test_negatives(train_matrix, test_ratings):\n",
    "    test_negatives = []\n",
    "    for user in range(0, train_matrix.shape[0]):\n",
    "        range_items = range(0, train_matrix.shape[1])\n",
    "        interected_items = set(train_matrix[user].nonzero()[1])\n",
    "        available_numbers = [\n",
    "            num for num in range_items if num not in interected_items]\n",
    "        negatives = random.sample(available_numbers, 99)\n",
    "\n",
    "        test_negatives.append(\n",
    "            [(user, test_ratings[user][1]), negatives])\n",
    "    return test_negatives"
   ]
  },
  {
   "cell_type": "code",
   "execution_count": 62,
   "metadata": {},
   "outputs": [],
   "source": [
    "users = []\n",
    "items = []\n",
    "ratings = []\n",
    "timestamps = []\n",
    "with open('../Data/ml-1m/ratings.dat', 'r') as f:\n",
    "    for line in f:\n",
    "        user, item, rating, timestamp = line.split('::')\n",
    "        users.append(int(user))\n",
    "        items.append(int(item))\n",
    "        ratings.append(int(rating))\n",
    "        timestamps.append(int(timestamp))"
   ]
  },
  {
   "cell_type": "code",
   "execution_count": 45,
   "metadata": {},
   "outputs": [],
   "source": [
    "test_ratings, test_ratings_dict = make_test_ratings(\n",
    "    '../Data/ml-1m/ratings.dat')"
   ]
  },
  {
   "cell_type": "code",
   "execution_count": 46,
   "metadata": {},
   "outputs": [],
   "source": [
    "ratings, train_matrix = make_train_ratings(\n",
    "    '../Data/ml-1m/ratings.dat', test_ratings_dict)"
   ]
  },
  {
   "cell_type": "code",
   "execution_count": 53,
   "metadata": {},
   "outputs": [],
   "source": [
    "items = {}\n",
    "for i in ratings:\n",
    "    if i[1] not in items:\n",
    "        items[i[1]] = 1\n",
    "    else:\n",
    "        items[i[1]] += 1"
   ]
  },
  {
   "cell_type": "code",
   "execution_count": 47,
   "metadata": {},
   "outputs": [],
   "source": [
    "test_negatives = make_test_negatives(train_matrix, test_ratings)"
   ]
  },
  {
   "cell_type": "code",
   "execution_count": 48,
   "metadata": {},
   "outputs": [],
   "source": [
    "with open('./output/ml-1m.train.rating', 'w') as f:\n",
    "    for i in ratings:\n",
    "        f.write('\\t'.join([str(x) for x in i]) + '\\n')"
   ]
  },
  {
   "cell_type": "code",
   "execution_count": 49,
   "metadata": {},
   "outputs": [],
   "source": [
    "with open('./output/ml-1m.test.rating', 'w') as f:\n",
    "    for i in test_ratings:\n",
    "        f.write('\\t'.join([str(x) for x in i]) + '\\n')"
   ]
  },
  {
   "cell_type": "code",
   "execution_count": 50,
   "metadata": {},
   "outputs": [],
   "source": [
    "with open('./output/ml-1m.test.negative', 'w') as f:\n",
    "    for i in test_negatives:\n",
    "        f.write(str(i[0]))\n",
    "        f.write('\\t')\n",
    "        f.write('\\t'.join([str(x) for x in i[1]]) + '\\n')"
   ]
  },
  {
   "cell_type": "code",
   "execution_count": null,
   "metadata": {},
   "outputs": [],
   "source": []
  }
 ],
 "metadata": {
  "kernelspec": {
   "display_name": "emb-explo",
   "language": "python",
   "name": "python3"
  },
  "language_info": {
   "codemirror_mode": {
    "name": "ipython",
    "version": 3
   },
   "file_extension": ".py",
   "mimetype": "text/x-python",
   "name": "python",
   "nbconvert_exporter": "python",
   "pygments_lexer": "ipython3",
   "version": "3.10.12"
  }
 },
 "nbformat": 4,
 "nbformat_minor": 2
}
