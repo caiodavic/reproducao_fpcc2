{
 "cells": [
  {
   "cell_type": "code",
   "execution_count": 1,
   "metadata": {},
   "outputs": [],
   "source": [
    "import pandas as pd\n",
    "from collections import defaultdict\n",
    "from tqdm import tqdm\n",
    "import uuid\n",
    "import scipy.sparse as sp\n",
    "import numpy as np"
   ]
  },
  {
   "cell_type": "code",
   "execution_count": 150,
   "metadata": {},
   "outputs": [],
   "source": [
    "df = pd.read_csv('../Data/lastfm-dataset-1K/userid-timestamp-artid-artname-traid-traname.tsv', sep='\\t',\n",
    "                 header=None, names=['user', 'timestamp', 'musicbrainz_artist_id', 'art_name', 'track_id', 'track_name'], on_bad_lines='skip')"
   ]
  },
  {
   "cell_type": "code",
   "execution_count": 151,
   "metadata": {},
   "outputs": [
    {
     "data": {
      "text/plain": [
       "(19098853, 6)"
      ]
     },
     "execution_count": 151,
     "metadata": {},
     "output_type": "execute_result"
    }
   ],
   "source": [
    "df.shape"
   ]
  },
  {
   "cell_type": "code",
   "execution_count": 152,
   "metadata": {},
   "outputs": [
    {
     "data": {
      "text/html": [
       "<div>\n",
       "<style scoped>\n",
       "    .dataframe tbody tr th:only-of-type {\n",
       "        vertical-align: middle;\n",
       "    }\n",
       "\n",
       "    .dataframe tbody tr th {\n",
       "        vertical-align: top;\n",
       "    }\n",
       "\n",
       "    .dataframe thead th {\n",
       "        text-align: right;\n",
       "    }\n",
       "</style>\n",
       "<table border=\"1\" class=\"dataframe\">\n",
       "  <thead>\n",
       "    <tr style=\"text-align: right;\">\n",
       "      <th></th>\n",
       "      <th>user</th>\n",
       "      <th>timestamp</th>\n",
       "      <th>musicbrainz_artist_id</th>\n",
       "      <th>art_name</th>\n",
       "      <th>track_id</th>\n",
       "      <th>track_name</th>\n",
       "    </tr>\n",
       "  </thead>\n",
       "  <tbody>\n",
       "    <tr>\n",
       "      <th>19098848</th>\n",
       "      <td>user_001000</td>\n",
       "      <td>2008-01-27T22:02:35Z</td>\n",
       "      <td>9e53f84d-ef44-4c16-9677-5fd4d78cbd7d</td>\n",
       "      <td>Wilco</td>\n",
       "      <td>a490cabc-1e5c-4807-86c7-740c31a50009</td>\n",
       "      <td>Please Be Patient With Me</td>\n",
       "    </tr>\n",
       "    <tr>\n",
       "      <th>19098849</th>\n",
       "      <td>user_001000</td>\n",
       "      <td>2008-01-27T21:56:52Z</td>\n",
       "      <td>9e53f84d-ef44-4c16-9677-5fd4d78cbd7d</td>\n",
       "      <td>Wilco</td>\n",
       "      <td>3e92e447-9e1f-440d-bc00-6734469880c5</td>\n",
       "      <td>Shake It Off</td>\n",
       "    </tr>\n",
       "    <tr>\n",
       "      <th>19098850</th>\n",
       "      <td>user_001000</td>\n",
       "      <td>2008-01-27T21:52:36Z</td>\n",
       "      <td>9e53f84d-ef44-4c16-9677-5fd4d78cbd7d</td>\n",
       "      <td>Wilco</td>\n",
       "      <td>93d044e6-1bbb-46a6-ac8e-283382a89e6f</td>\n",
       "      <td>Side With The Seeds</td>\n",
       "    </tr>\n",
       "    <tr>\n",
       "      <th>19098851</th>\n",
       "      <td>user_001000</td>\n",
       "      <td>2008-01-27T21:49:12Z</td>\n",
       "      <td>9e53f84d-ef44-4c16-9677-5fd4d78cbd7d</td>\n",
       "      <td>Wilco</td>\n",
       "      <td>5ac4386f-6146-4389-a762-4b43f362d2c8</td>\n",
       "      <td>Sky Blue Sky</td>\n",
       "    </tr>\n",
       "    <tr>\n",
       "      <th>19098852</th>\n",
       "      <td>user_001000</td>\n",
       "      <td>2008-01-27T21:43:14Z</td>\n",
       "      <td>9e53f84d-ef44-4c16-9677-5fd4d78cbd7d</td>\n",
       "      <td>Wilco</td>\n",
       "      <td>3acc99bc-a349-420f-ad28-7095eb3533c9</td>\n",
       "      <td>Impossible Germany</td>\n",
       "    </tr>\n",
       "  </tbody>\n",
       "</table>\n",
       "</div>"
      ],
      "text/plain": [
       "                 user             timestamp  \\\n",
       "19098848  user_001000  2008-01-27T22:02:35Z   \n",
       "19098849  user_001000  2008-01-27T21:56:52Z   \n",
       "19098850  user_001000  2008-01-27T21:52:36Z   \n",
       "19098851  user_001000  2008-01-27T21:49:12Z   \n",
       "19098852  user_001000  2008-01-27T21:43:14Z   \n",
       "\n",
       "                         musicbrainz_artist_id art_name  \\\n",
       "19098848  9e53f84d-ef44-4c16-9677-5fd4d78cbd7d    Wilco   \n",
       "19098849  9e53f84d-ef44-4c16-9677-5fd4d78cbd7d    Wilco   \n",
       "19098850  9e53f84d-ef44-4c16-9677-5fd4d78cbd7d    Wilco   \n",
       "19098851  9e53f84d-ef44-4c16-9677-5fd4d78cbd7d    Wilco   \n",
       "19098852  9e53f84d-ef44-4c16-9677-5fd4d78cbd7d    Wilco   \n",
       "\n",
       "                                      track_id                 track_name  \n",
       "19098848  a490cabc-1e5c-4807-86c7-740c31a50009  Please Be Patient With Me  \n",
       "19098849  3e92e447-9e1f-440d-bc00-6734469880c5               Shake It Off  \n",
       "19098850  93d044e6-1bbb-46a6-ac8e-283382a89e6f        Side With The Seeds  \n",
       "19098851  5ac4386f-6146-4389-a762-4b43f362d2c8               Sky Blue Sky  \n",
       "19098852  3acc99bc-a349-420f-ad28-7095eb3533c9         Impossible Germany  "
      ]
     },
     "execution_count": 152,
     "metadata": {},
     "output_type": "execute_result"
    }
   ],
   "source": [
    "df.tail()"
   ]
  },
  {
   "cell_type": "code",
   "execution_count": 153,
   "metadata": {},
   "outputs": [],
   "source": [
    "from tqdm import tqdm\n",
    "tqdm.pandas()"
   ]
  },
  {
   "cell_type": "code",
   "execution_count": 154,
   "metadata": {},
   "outputs": [],
   "source": [
    "def is_valid_uuid(val):\n",
    "    try:\n",
    "        uuid.UUID(str(val))\n",
    "        return True\n",
    "    except ValueError:\n",
    "        return False"
   ]
  },
  {
   "cell_type": "code",
   "execution_count": 155,
   "metadata": {},
   "outputs": [],
   "source": [
    "df.dropna(subset=['musicbrainz_artist_id'], inplace=True)"
   ]
  },
  {
   "cell_type": "code",
   "execution_count": 156,
   "metadata": {},
   "outputs": [
    {
     "name": "stderr",
     "output_type": "stream",
     "text": [
      "100%|██████████| 18498005/18498005 [00:31<00:00, 578808.28it/s]\n"
     ]
    }
   ],
   "source": [
    "df['valid_uuid'] = df['musicbrainz_artist_id'].progress_apply(is_valid_uuid)"
   ]
  },
  {
   "cell_type": "code",
   "execution_count": 157,
   "metadata": {},
   "outputs": [],
   "source": [
    "df = df[df['valid_uuid'] == True]"
   ]
  },
  {
   "cell_type": "code",
   "execution_count": 158,
   "metadata": {},
   "outputs": [
    {
     "name": "stderr",
     "output_type": "stream",
     "text": [
      "  0%|          | 0/18498005 [00:00<?, ?it/s]"
     ]
    },
    {
     "name": "stderr",
     "output_type": "stream",
     "text": [
      "100%|██████████| 18498005/18498005 [00:06<00:00, 2885807.93it/s]\n"
     ]
    }
   ],
   "source": [
    "user_by_artist = defaultdict(list)\n",
    "for user, artist in tqdm(zip(df['user'], df['musicbrainz_artist_id']), total=df.shape[0]):\n",
    "    user_by_artist[user].append(artist)"
   ]
  },
  {
   "cell_type": "code",
   "execution_count": 159,
   "metadata": {},
   "outputs": [
    {
     "data": {
      "text/plain": [
       "992"
      ]
     },
     "execution_count": 159,
     "metadata": {},
     "output_type": "execute_result"
    }
   ],
   "source": [
    "len(user_by_artist)"
   ]
  },
  {
   "cell_type": "code",
   "execution_count": 160,
   "metadata": {},
   "outputs": [],
   "source": [
    "for k, v in user_by_artist.items():\n",
    "    user_by_artist[k] = list(set(v))"
   ]
  },
  {
   "cell_type": "code",
   "execution_count": 161,
   "metadata": {},
   "outputs": [],
   "source": [
    "users_gt_20 = {k: v for k, v in user_by_artist.items() if len(v) >= 20}"
   ]
  },
  {
   "cell_type": "code",
   "execution_count": 162,
   "metadata": {},
   "outputs": [
    {
     "data": {
      "text/plain": [
       "979"
      ]
     },
     "execution_count": 162,
     "metadata": {},
     "output_type": "execute_result"
    }
   ],
   "source": [
    "len(users_gt_20)"
   ]
  },
  {
   "cell_type": "code",
   "execution_count": 163,
   "metadata": {},
   "outputs": [],
   "source": [
    "df = df[df['user'].isin(users_gt_20)]"
   ]
  },
  {
   "cell_type": "code",
   "execution_count": 164,
   "metadata": {},
   "outputs": [
    {
     "data": {
      "text/plain": [
       "(18497299, 7)"
      ]
     },
     "execution_count": 164,
     "metadata": {},
     "output_type": "execute_result"
    }
   ],
   "source": [
    "df.shape"
   ]
  },
  {
   "cell_type": "code",
   "execution_count": 177,
   "metadata": {},
   "outputs": [
    {
     "name": "stderr",
     "output_type": "stream",
     "text": [
      "100%|██████████| 18497299/18497299 [00:06<00:00, 2687475.97it/s]\n"
     ]
    }
   ],
   "source": [
    "user_label = []\n",
    "user_label_dict = {}\n",
    "count = 0\n",
    "for user in tqdm(df.user):\n",
    "    if user_label_dict.get(user) == None:\n",
    "        count += 1\n",
    "        user_label_dict[user] = count\n",
    "    user_label.append(user_label_dict[user])"
   ]
  },
  {
   "cell_type": "code",
   "execution_count": 179,
   "metadata": {},
   "outputs": [],
   "source": [
    "df['user'] = user_label"
   ]
  },
  {
   "cell_type": "code",
   "execution_count": 180,
   "metadata": {},
   "outputs": [
    {
     "name": "stderr",
     "output_type": "stream",
     "text": [
      "100%|██████████| 18497299/18497299 [00:07<00:00, 2586734.54it/s]\n"
     ]
    }
   ],
   "source": [
    "mb_id_categorical = []\n",
    "mb_dict = {}\n",
    "count = 0\n",
    "for r in tqdm(df.musicbrainz_artist_id, total=df.shape[0]):\n",
    "    if mb_dict.get(r) == None:\n",
    "        count += 1\n",
    "        mb_dict[r] = count\n",
    "    mb_id_categorical.append(mb_dict[r])"
   ]
  },
  {
   "cell_type": "code",
   "execution_count": 181,
   "metadata": {},
   "outputs": [],
   "source": [
    "df['mb_id_categorical'] = mb_id_categorical"
   ]
  },
  {
   "cell_type": "code",
   "execution_count": 182,
   "metadata": {},
   "outputs": [
    {
     "data": {
      "text/html": [
       "<div>\n",
       "<style scoped>\n",
       "    .dataframe tbody tr th:only-of-type {\n",
       "        vertical-align: middle;\n",
       "    }\n",
       "\n",
       "    .dataframe tbody tr th {\n",
       "        vertical-align: top;\n",
       "    }\n",
       "\n",
       "    .dataframe thead th {\n",
       "        text-align: right;\n",
       "    }\n",
       "</style>\n",
       "<table border=\"1\" class=\"dataframe\">\n",
       "  <thead>\n",
       "    <tr style=\"text-align: right;\">\n",
       "      <th></th>\n",
       "      <th>user</th>\n",
       "      <th>timestamp</th>\n",
       "      <th>musicbrainz_artist_id</th>\n",
       "      <th>art_name</th>\n",
       "      <th>track_id</th>\n",
       "      <th>track_name</th>\n",
       "      <th>valid_uuid</th>\n",
       "      <th>mb_id_categorical</th>\n",
       "    </tr>\n",
       "  </thead>\n",
       "  <tbody>\n",
       "    <tr>\n",
       "      <th>0</th>\n",
       "      <td>1</td>\n",
       "      <td>2009-05-04T23:08:57Z</td>\n",
       "      <td>f1b1cf71-bd35-4e99-8624-24a6e15f133a</td>\n",
       "      <td>Deep Dish</td>\n",
       "      <td>NaN</td>\n",
       "      <td>Fuck Me Im Famous (Pacha Ibiza)-09-28-2007</td>\n",
       "      <td>True</td>\n",
       "      <td>1</td>\n",
       "    </tr>\n",
       "    <tr>\n",
       "      <th>1</th>\n",
       "      <td>1</td>\n",
       "      <td>2009-05-04T13:54:10Z</td>\n",
       "      <td>a7f7df4a-77d8-4f12-8acd-5c60c93f4de8</td>\n",
       "      <td>坂本龍一</td>\n",
       "      <td>NaN</td>\n",
       "      <td>Composition 0919 (Live_2009_4_15)</td>\n",
       "      <td>True</td>\n",
       "      <td>2</td>\n",
       "    </tr>\n",
       "    <tr>\n",
       "      <th>2</th>\n",
       "      <td>1</td>\n",
       "      <td>2009-05-04T13:52:04Z</td>\n",
       "      <td>a7f7df4a-77d8-4f12-8acd-5c60c93f4de8</td>\n",
       "      <td>坂本龍一</td>\n",
       "      <td>NaN</td>\n",
       "      <td>Mc2 (Live_2009_4_15)</td>\n",
       "      <td>True</td>\n",
       "      <td>2</td>\n",
       "    </tr>\n",
       "    <tr>\n",
       "      <th>3</th>\n",
       "      <td>1</td>\n",
       "      <td>2009-05-04T13:42:52Z</td>\n",
       "      <td>a7f7df4a-77d8-4f12-8acd-5c60c93f4de8</td>\n",
       "      <td>坂本龍一</td>\n",
       "      <td>NaN</td>\n",
       "      <td>Hibari (Live_2009_4_15)</td>\n",
       "      <td>True</td>\n",
       "      <td>2</td>\n",
       "    </tr>\n",
       "    <tr>\n",
       "      <th>4</th>\n",
       "      <td>1</td>\n",
       "      <td>2009-05-04T13:42:11Z</td>\n",
       "      <td>a7f7df4a-77d8-4f12-8acd-5c60c93f4de8</td>\n",
       "      <td>坂本龍一</td>\n",
       "      <td>NaN</td>\n",
       "      <td>Mc1 (Live_2009_4_15)</td>\n",
       "      <td>True</td>\n",
       "      <td>2</td>\n",
       "    </tr>\n",
       "  </tbody>\n",
       "</table>\n",
       "</div>"
      ],
      "text/plain": [
       "   user             timestamp                 musicbrainz_artist_id  \\\n",
       "0     1  2009-05-04T23:08:57Z  f1b1cf71-bd35-4e99-8624-24a6e15f133a   \n",
       "1     1  2009-05-04T13:54:10Z  a7f7df4a-77d8-4f12-8acd-5c60c93f4de8   \n",
       "2     1  2009-05-04T13:52:04Z  a7f7df4a-77d8-4f12-8acd-5c60c93f4de8   \n",
       "3     1  2009-05-04T13:42:52Z  a7f7df4a-77d8-4f12-8acd-5c60c93f4de8   \n",
       "4     1  2009-05-04T13:42:11Z  a7f7df4a-77d8-4f12-8acd-5c60c93f4de8   \n",
       "\n",
       "    art_name track_id                                  track_name  valid_uuid  \\\n",
       "0  Deep Dish      NaN  Fuck Me Im Famous (Pacha Ibiza)-09-28-2007        True   \n",
       "1       坂本龍一      NaN           Composition 0919 (Live_2009_4_15)        True   \n",
       "2       坂本龍一      NaN                        Mc2 (Live_2009_4_15)        True   \n",
       "3       坂本龍一      NaN                     Hibari (Live_2009_4_15)        True   \n",
       "4       坂本龍一      NaN                        Mc1 (Live_2009_4_15)        True   \n",
       "\n",
       "   mb_id_categorical  \n",
       "0                  1  \n",
       "1                  2  \n",
       "2                  2  \n",
       "3                  2  \n",
       "4                  2  "
      ]
     },
     "execution_count": 182,
     "metadata": {},
     "output_type": "execute_result"
    }
   ],
   "source": [
    "df.head()"
   ]
  },
  {
   "cell_type": "code",
   "execution_count": 183,
   "metadata": {},
   "outputs": [
    {
     "name": "stderr",
     "output_type": "stream",
     "text": [
      "100%|██████████| 18497299/18497299 [00:13<00:00, 1383056.91it/s]\n"
     ]
    }
   ],
   "source": [
    "user_mb_timestamp = defaultdict(list)\n",
    "\n",
    "for user, mb_id, timestamp in tqdm(zip(df['user'], df['mb_id_categorical'], df['timestamp']), total=df.shape[0]):\n",
    "    user_mb_timestamp[(user, mb_id)].append(timestamp)"
   ]
  },
  {
   "cell_type": "code",
   "execution_count": 186,
   "metadata": {},
   "outputs": [
    {
     "name": "stderr",
     "output_type": "stream",
     "text": [
      "  0%|          | 0/819388 [00:00<?, ?it/s]"
     ]
    },
    {
     "name": "stderr",
     "output_type": "stream",
     "text": [
      "100%|██████████| 819388/819388 [00:00<00:00, 850321.53it/s]\n"
     ]
    }
   ],
   "source": [
    "user, mb_id, timestamp, plays_qtt = [], [], [], []\n",
    "for k in tqdm(user_mb_timestamp.keys()):\n",
    "    user.append(k[0])\n",
    "    mb_id.append(k[1])\n",
    "    t = user_mb_timestamp[k]\n",
    "    t.sort(reverse=True)\n",
    "    try:\n",
    "        timestamp.append(t[0])\n",
    "    except:\n",
    "        print(k)\n",
    "        break\n",
    "    plays_qtt.append(len(t))"
   ]
  },
  {
   "cell_type": "code",
   "execution_count": 209,
   "metadata": {},
   "outputs": [
    {
     "name": "stderr",
     "output_type": "stream",
     "text": [
      "  0%|          | 0/819388 [00:00<?, ?it/s]"
     ]
    },
    {
     "name": "stderr",
     "output_type": "stream",
     "text": [
      "100%|██████████| 819388/819388 [00:00<00:00, 1770701.88it/s]\n"
     ]
    }
   ],
   "source": [
    "ratings = []\n",
    "for u, m, t, p in tqdm(zip(user, mb_id, timestamp, plays_qtt), total=len(user)):\n",
    "    ratings.append((u, m, t, p))"
   ]
  },
  {
   "cell_type": "code",
   "execution_count": 211,
   "metadata": {},
   "outputs": [
    {
     "data": {
      "text/plain": [
       "(979, 10698, '2008-01-29T06:21:14Z', 23)"
      ]
     },
     "execution_count": 211,
     "metadata": {},
     "output_type": "execute_result"
    }
   ],
   "source": [
    "ratings[-1]"
   ]
  },
  {
   "cell_type": "code",
   "execution_count": 212,
   "metadata": {},
   "outputs": [],
   "source": [
    "def make_test_ratings(ratings):\n",
    "    test_ratings = {}\n",
    "    for rating in tqdm(ratings):\n",
    "        user, item, timestamp, plays = int(\n",
    "            rating[0])-1, int(rating[1])-1, rating[2], int(rating[3])\n",
    "        if test_ratings.get(user) != None:\n",
    "            if test_ratings[user][1] > timestamp:\n",
    "                test_ratings[user] = (item, timestamp)\n",
    "        else:\n",
    "            test_ratings[user] = (item, timestamp)\n",
    "\n",
    "    rating_list = []\n",
    "    for user in test_ratings.keys():\n",
    "        rating_list.append([user, test_ratings[user][0]])\n",
    "    return rating_list, test_ratings"
   ]
  },
  {
   "cell_type": "code",
   "execution_count": 213,
   "metadata": {},
   "outputs": [
    {
     "name": "stderr",
     "output_type": "stream",
     "text": [
      "100%|██████████| 819388/819388 [00:00<00:00, 1489400.07it/s]\n"
     ]
    }
   ],
   "source": [
    "test_ratings, test_ratings_dict = make_test_ratings(ratings)"
   ]
  },
  {
   "cell_type": "code",
   "execution_count": 249,
   "metadata": {},
   "outputs": [],
   "source": [
    "def make_train_ratings(ratings, test_ratings_dict):\n",
    "    train_ratings = []\n",
    "    num_users, num_items = 0, 0\n",
    "    for rating in tqdm(ratings):\n",
    "        user, item = rating[0], rating[1]\n",
    "        num_users = max(num_users, user)\n",
    "        num_items = max(num_items, item)\n",
    "\n",
    "    matrix = sp.dok_matrix((num_users, num_items), dtype=np.float32)\n",
    "    for rating in tqdm(ratings):\n",
    "        user, item, timestamp, plays_qtt = rating[0] - \\\n",
    "            1, rating[1]-1, rating[2], rating[3]\n",
    "        if test_ratings_dict[user][0] != item:\n",
    "            matrix[user, item] = 1.0\n",
    "        train_ratings.append([user, item, plays_qtt])\n",
    "\n",
    "    return matrix, train_ratings"
   ]
  },
  {
   "cell_type": "code",
   "execution_count": 251,
   "metadata": {},
   "outputs": [
    {
     "name": "stderr",
     "output_type": "stream",
     "text": [
      "  0%|          | 0/819388 [00:00<?, ?it/s]"
     ]
    },
    {
     "name": "stderr",
     "output_type": "stream",
     "text": [
      "100%|██████████| 819388/819388 [00:00<00:00, 2420899.62it/s]\n",
      "100%|██████████| 819388/819388 [00:08<00:00, 94054.44it/s] \n"
     ]
    }
   ],
   "source": [
    "matrix_ratings, train_ratings = make_train_ratings(ratings, test_ratings_dict)"
   ]
  },
  {
   "cell_type": "code",
   "execution_count": 241,
   "metadata": {},
   "outputs": [
    {
     "data": {
      "text/plain": [
       "<Dictionary Of Keys sparse matrix of dtype 'float32'\n",
       "\twith 818409 stored elements and shape (979, 107293)>"
      ]
     },
     "execution_count": 241,
     "metadata": {},
     "output_type": "execute_result"
    }
   ],
   "source": [
    "matrix_ratings"
   ]
  },
  {
   "cell_type": "code",
   "execution_count": 242,
   "metadata": {},
   "outputs": [],
   "source": [
    "import random"
   ]
  },
  {
   "cell_type": "code",
   "execution_count": 254,
   "metadata": {},
   "outputs": [],
   "source": [
    "def make_test_negatives(train_matrix, test_ratings_dict):\n",
    "    test_negatives = []\n",
    "    for user in tqdm(range(0, train_matrix.shape[0]), total=train_matrix.shape[0]):\n",
    "        range_items = range(0, train_matrix.shape[1])\n",
    "        interected_items = set(train_matrix[user].nonzero()[1])\n",
    "        available_numbers = [\n",
    "            num for num in range_items if num not in interected_items]\n",
    "        negatives = random.sample(available_numbers, 99)\n",
    "\n",
    "        test_negatives.append(\n",
    "            [(user, test_ratings_dict[user][0]), negatives])\n",
    "    return test_negatives"
   ]
  },
  {
   "cell_type": "code",
   "execution_count": 255,
   "metadata": {},
   "outputs": [
    {
     "name": "stderr",
     "output_type": "stream",
     "text": [
      "  0%|          | 0/979 [00:00<?, ?it/s]"
     ]
    },
    {
     "name": "stderr",
     "output_type": "stream",
     "text": [
      "100%|██████████| 979/979 [00:32<00:00, 30.38it/s]\n"
     ]
    }
   ],
   "source": [
    "test_negatives = make_test_negatives(matrix_ratings, test_ratings_dict)"
   ]
  },
  {
   "cell_type": "code",
   "execution_count": 262,
   "metadata": {},
   "outputs": [],
   "source": [
    "with open('./output/last-fm.train.rating', 'w') as f:\n",
    "    for i in train_ratings:\n",
    "        f.write('\\t'.join([str(x) for x in i]) + '\\n')"
   ]
  },
  {
   "cell_type": "code",
   "execution_count": 260,
   "metadata": {},
   "outputs": [],
   "source": [
    "with open('./output/last-fm.test.rating', 'w') as f:\n",
    "    for i in test_ratings:\n",
    "        f.write('\\t'.join([str(x) for x in i]) + '\\n')"
   ]
  },
  {
   "cell_type": "code",
   "execution_count": 261,
   "metadata": {},
   "outputs": [],
   "source": [
    "with open('./output/last-fm.test.negative', 'w') as f:\n",
    "    for i in test_negatives:\n",
    "        f.write(str(i[0]))\n",
    "        f.write('\\t')\n",
    "        f.write('\\t'.join([str(x) for x in i[1]]) + '\\n')"
   ]
  },
  {
   "cell_type": "code",
   "execution_count": 248,
   "metadata": {},
   "outputs": [
    {
     "data": {
      "text/plain": [
       "np.float64(0.9922085853761763)"
      ]
     },
     "execution_count": 248,
     "metadata": {},
     "output_type": "execute_result"
    }
   ],
   "source": [
    "total_elements = matrix_ratings.shape[0] * matrix_ratings.shape[1]\n",
    "non_zero_elements = matrix_ratings.count_nonzero()\n",
    "sparsity = (total_elements - non_zero_elements) / total_elements\n",
    "sparsity"
   ]
  },
  {
   "cell_type": "code",
   "execution_count": 238,
   "metadata": {},
   "outputs": [
    {
     "data": {
      "text/plain": [
       "<Dictionary Of Keys sparse matrix of dtype 'float32'\n",
       "\twith 818409 stored elements and shape (979, 107293)>"
      ]
     },
     "execution_count": 238,
     "metadata": {},
     "output_type": "execute_result"
    }
   ],
   "source": [
    "matrix_ratings"
   ]
  }
 ],
 "metadata": {
  "kernelspec": {
   "display_name": "emb-explo",
   "language": "python",
   "name": "python3"
  },
  "language_info": {
   "codemirror_mode": {
    "name": "ipython",
    "version": 3
   },
   "file_extension": ".py",
   "mimetype": "text/x-python",
   "name": "python",
   "nbconvert_exporter": "python",
   "pygments_lexer": "ipython3",
   "version": "3.10.12"
  }
 },
 "nbformat": 4,
 "nbformat_minor": 2
}
